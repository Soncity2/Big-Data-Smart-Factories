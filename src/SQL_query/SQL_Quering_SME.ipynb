{
 "cells": [
  {
   "cell_type": "code",
   "execution_count": null,
   "id": "55f83c40",
   "metadata": {
    "id": "55f83c40",
    "outputId": "dc67877a-c389-4612-efdb-0087094d81bb"
   },
   "outputs": [
    {
     "name": "stdout",
     "output_type": "stream",
     "text": [
      "25/03/30 11:41:17 WARN SparkSession: Using an existing Spark session; only runtime SQL configurations will take effect.\n",
      "25/03/30 11:41:19 WARN ResolveWriteToStream: spark.sql.adaptive.enabled is not supported in streaming DataFrames/Datasets and will be disabled.\n",
      "25/03/30 11:41:19 WARN ResolveWriteToStream: spark.sql.adaptive.enabled is not supported in streaming DataFrames/Datasets and will be disabled.\n",
      "25/03/30 11:41:19 WARN ResolveWriteToStream: spark.sql.adaptive.enabled is not supported in streaming DataFrames/Datasets and will be disabled.\n",
      "25/03/30 11:41:19 WARN ResolveWriteToStream: spark.sql.adaptive.enabled is not supported in streaming DataFrames/Datasets and will be disabled.\n"
     ]
    },
    {
     "name": "stderr",
     "output_type": "stream",
     "text": [
      "                                                                                \r"
     ]
    },
    {
     "name": "stdout",
     "output_type": "stream",
     "text": [
      "-------------------------------------------\n",
      "Batch: 0\n",
      "-------------------------------------------\n"
     ]
    },
    {
     "name": "stderr",
     "output_type": "stream",
     "text": [
      "[Stage 2:>    (0 + 0) / 1][Stage 3:>    (0 + 4) / 4][Stage 5:>    (0 + 0) / 4]4]\r"
     ]
    },
    {
     "name": "stdout",
     "output_type": "stream",
     "text": [
      "+-------------------------+-----+----------+---------+---------+---------+-----------------+\n",
      "|ts                       |asset|status    |power_avg|power_max|power_min|power_fluctuation|\n",
      "+-------------------------+-----+----------+---------+---------+---------+-----------------+\n",
      "|2021-11-16 15:48:00+00:00|5    |Standby   |9.1762   |17.9793  |5.76693  |12.21237         |\n",
      "|2021-11-16 15:49:00+00:00|14   |MachineOn |5.060667 |8.732685 |3.6945975|5.038088         |\n",
      "|2021-11-16 15:51:00+00:00|4    |Production|330.53748|386.2534 |46.014534|340.23886        |\n",
      "|2021-11-16 15:51:00+00:00|6    |Standby   |16.27782 |22.503458|12.427282|10.076176        |\n",
      "|2021-11-16 15:54:00+00:00|5    |Production|8.55993  |17.64    |5.08847  |12.551529        |\n",
      "|2021-11-16 15:56:00+00:00|11   |Production|7.465372 |11.755537|5.0380874|6.7174497        |\n",
      "|2021-11-16 15:57:00+00:00|14   |MachineOn |8.151258 |95.05192 |3.358725 |91.69319         |\n",
      "|2021-11-16 15:58:00+00:00|12   |Standby   |1.0492017|1.34349  |1.0076175|0.33587253       |\n",
      "|2021-11-16 15:59:00+00:00|11   |Production|7.797782 |10.412047|4.702215 |5.709832         |\n",
      "|2021-11-16 16:02:00+00:00|12   |Standby   |1.0329664|1.34349  |1.0076175|0.33587253       |\n",
      "|2021-11-16 16:09:00+00:00|14   |Standby   |1.09948  |1.6793625|0.671745 |1.0076175        |\n",
      "|2021-11-16 16:17:00+00:00|12   |Standby   |1.0295905|1.34349  |1.0076175|0.33587253       |\n",
      "|2021-11-16 16:19:00+00:00|16   |Standby   |5.0634365|5.37396  |4.702215 |0.6717448        |\n",
      "|2021-11-16 16:21:00+00:00|14   |Standby   |1.1157799|1.6793625|0.671745 |1.0076175        |\n",
      "|2021-11-16 16:31:00+00:00|16   |Standby   |5.1628404|5.7098327|4.702215 |1.0076175        |\n",
      "|2021-11-16 16:42:00+00:00|14   |Standby   |1.2045083|1.6793625|0.671745 |1.0076175        |\n",
      "|2021-11-16 16:47:00+00:00|12   |Standby   |1.2022352|1.34349  |1.0076175|0.33587253       |\n",
      "|2021-11-16 16:48:00+00:00|16   |Standby   |5.196518 |5.7098327|4.702215 |1.0076175        |\n",
      "|2021-11-16 16:49:00+00:00|12   |Standby   |1.2253126|1.6793625|1.0076175|0.67174506       |\n",
      "|2021-11-16 16:59:00+00:00|12   |Standby   |1.1080654|1.34349  |1.0076175|0.33587253       |\n",
      "+-------------------------+-----+----------+---------+---------+---------+-----------------+\n",
      "only showing top 20 rows\n",
      "\n"
     ]
    },
    {
     "name": "stderr",
     "output_type": "stream",
     "text": [
      "                                                                                \r"
     ]
    },
    {
     "name": "stdout",
     "output_type": "stream",
     "text": [
      "-------------------------------------------\n",
      "Batch: 0\n",
      "-------------------------------------------\n",
      "+-----------------------+\n",
      "|total_power_consumption|\n",
      "+-----------------------+\n",
      "|3666703.984284345      |\n",
      "+-----------------------+\n",
      "\n",
      "-------------------------------------------\n",
      "Batch: 0\n",
      "-------------------------------------------\n",
      "+---------------+\n",
      "|max_power_usage|\n",
      "+---------------+\n",
      "|806.06         |\n",
      "+---------------+\n",
      "\n"
     ]
    },
    {
     "name": "stderr",
     "output_type": "stream",
     "text": [
      "                                                                                \r"
     ]
    },
    {
     "name": "stdout",
     "output_type": "stream",
     "text": [
      "-------------------------------------------\n",
      "Batch: 0\n",
      "-------------------------------------------\n",
      "+-----+------------------+\n",
      "|asset|average_power     |\n",
      "+-----+------------------+\n",
      "|3    |139.84429432709726|\n",
      "|4    |102.06913520106617|\n",
      "|9    |101.29514047516223|\n",
      "|5    |86.63100026217131 |\n",
      "|13   |79.91346556293301 |\n",
      "|1    |62.413434229726604|\n",
      "|10   |53.1344742992425  |\n",
      "|8    |45.702913488545875|\n",
      "|7    |22.897871970659885|\n",
      "|6    |17.08529790577849 |\n",
      "|15   |14.468509786303606|\n",
      "|16   |12.474804667094462|\n",
      "|17   |10.277148821121868|\n",
      "|12   |6.1009717636178165|\n",
      "|14   |5.810286658517822 |\n",
      "|11   |5.767543048855085 |\n",
      "|2    |5.468842835756808 |\n",
      "|0    |3.398475297367126 |\n",
      "+-----+------------------+\n",
      "\n"
     ]
    }
   ],
   "source": [
    "from pyspark.sql import SparkSession\n",
    "from pyspark.sql.functions import avg, max, min, sum, approx_count_distinct, col, rand\n",
    "import time\n",
    "\n",
    "# Step 1: Initialize SparkSession\n",
    "spark = SparkSession.builder \\\n",
    "    .config(\"spark.driver.memory\", \"4g\") \\\n",
    "    .config(\"spark.executor.memory\", \"4g\") \\\n",
    "    .appName(\"StructuredStreaming\").getOrCreate()\n",
    "\n",
    "# Stop any previous streaming queries before starting new ones\n",
    "for query in spark.streams.active:\n",
    "    query.stop()\n",
    "\n",
    "# Step 2: Define the schema\n",
    "schema = \"\"\"\n",
    "    ts STRING,\n",
    "    asset INT,\n",
    "    status STRING,\n",
    "    alarm_time INT,\n",
    "    loading_time INT,\n",
    "    tooling_time INT,\n",
    "    maintenance_time INT,\n",
    "    support_time INT,\n",
    "    power_avg FLOAT,\n",
    "    power_min FLOAT,\n",
    "    power_max FLOAT\n",
    "\"\"\"\n",
    "\n",
    "selected_columns = [\n",
    "    \"ts\", \"asset\", \"status\", \"power_avg\", \"power_max\", \"power_min\"\n",
    "]\n",
    "\n",
    "# Step 3: Read streaming data\n",
    "streaming_df = (\n",
    "    spark.readStream\n",
    "    .option(\"header\", \"true\")\n",
    "    .schema(schema)\n",
    "    .csv(\"FILES\")  # Directory to monitor\n",
    "    .select(*selected_columns)\n",
    ")\n",
    "\n",
    "streaming_df = streaming_df.filter(rand() < 0.05)  # ~5% of the data\n",
    "\n",
    "# 1. Average Power Consumption Per Asset\n",
    "average_power = (\n",
    "    streaming_df\n",
    "    .filter(col(\"asset\").isNotNull())  # remove rows where asset is null\n",
    "    .groupBy(\"asset\")\n",
    "    .agg(avg(\"power_avg\").alias(\"average_power\"))\n",
    "    .orderBy(col(\"average_power\").desc())  # sort in descending order\n",
    ")\n",
    "\n",
    "# 2. Maximum Power Usage Over Time\n",
    "max_power = (\n",
    "    streaming_df.agg(max(\"power_max\").alias(\"max_power_usage\"))\n",
    ")\n",
    "\n",
    "# 3. Power Fluctuation Detection\n",
    "power_fluctuation = (\n",
    "    streaming_df.withColumn(\"power_fluctuation\", col(\"power_max\") - col(\"power_min\"))\n",
    ")\n",
    "\n",
    "# 4. Total Power Consumption Over Time\n",
    "total_power = (\n",
    "    streaming_df.agg(sum(\"power_avg\").alias(\"total_power_consumption\"))\n",
    ")\n",
    "\n",
    "# 5. Approximate Unique Active Assets Count\n",
    "unique_assets = (\n",
    "    streaming_df.agg(approx_count_distinct(\"asset\").alias(\"approx_unique_assets\"))\n",
    ")\n",
    "\n",
    "# Writing outputs to console\n",
    "query_avg = (\n",
    "    average_power.writeStream\n",
    "    .queryName(\"avg_power_query\")\n",
    "    .outputMode(\"complete\")\n",
    "    .format(\"console\")\n",
    "    .option(\"truncate\", \"false\")\n",
    "    .option(\"checkpointLocation\", f\"/tmp/checkpoints/average_power_{int(time.time())}/\")  # Unique checkpoint\n",
    "    .start()\n",
    ")\n",
    "\n",
    "query_fluctuation = (\n",
    "    power_fluctuation.writeStream\n",
    "    .queryName(\"fluctuation_query\")\n",
    "    .outputMode(\"append\")\n",
    "    .format(\"console\")\n",
    "    .option(\"truncate\", \"false\")\n",
    "    .option(\"checkpointLocation\", f\"/tmp/checkpoints/power_fluctuation_{int(time.time())}/\")\n",
    "    .start()\n",
    ")\n",
    "\n",
    "query_max_power = (\n",
    "    max_power.writeStream\n",
    "    .queryName(\"max_power_query\")\n",
    "    .outputMode(\"complete\")\n",
    "    .format(\"console\")\n",
    "    .option(\"truncate\", \"false\")\n",
    "    .option(\"checkpointLocation\", f\"/tmp/checkpoints/max_power_{int(time.time())}/\")\n",
    "    .start()\n",
    ")\n",
    "\n",
    "query_total_power = (\n",
    "    total_power.writeStream\n",
    "    .queryName(\"total_power_query\")\n",
    "    .outputMode(\"complete\")\n",
    "    .format(\"console\")\n",
    "    .option(\"truncate\", \"false\")\n",
    "    .option(\"checkpointLocation\", f\"/tmp/checkpoints/total_power_{int(time.time())}/\")\n",
    "    .start()\n",
    ")\n",
    "\n",
    "# Wait for the streaming to finish\n",
    "query_avg.awaitTermination()\n",
    "query_fluctuation.awaitTermination()\n",
    "query_max_power.awaitTermination()\n",
    "query_total_power.awaitTermination()\n"
   ]
  },
  {
   "cell_type": "code",
   "execution_count": null,
   "id": "eae15550",
   "metadata": {
    "id": "eae15550"
   },
   "outputs": [],
   "source": []
  }
 ],
 "metadata": {
  "colab": {
   "provenance": []
  },
  "kernelspec": {
   "display_name": "Python 3 (ipykernel)",
   "language": "python",
   "name": "python3"
  },
  "language_info": {
   "codemirror_mode": {
    "name": "ipython",
    "version": 3
   },
   "file_extension": ".py",
   "mimetype": "text/x-python",
   "name": "python",
   "nbconvert_exporter": "python",
   "pygments_lexer": "ipython3",
   "version": "3.9.12"
  }
 },
 "nbformat": 4,
 "nbformat_minor": 5
}
